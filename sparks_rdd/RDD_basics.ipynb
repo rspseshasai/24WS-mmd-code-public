{
 "cells": [
  {
   "metadata": {},
   "cell_type": "markdown",
   "source": "### Problem set - 3, Exercise - 5 (b)",
   "id": "e708a3d28c5ee3e"
  },
  {
   "cell_type": "code",
   "id": "initial_id",
   "metadata": {
    "collapsed": true,
    "ExecuteTime": {
     "end_time": "2024-11-09T18:59:49.308545Z",
     "start_time": "2024-11-09T18:59:49.303545Z"
    }
   },
   "source": "from pyspark import SparkContext",
   "outputs": [],
   "execution_count": 38
  },
  {
   "metadata": {
    "ExecuteTime": {
     "end_time": "2024-11-09T18:59:49.416629Z",
     "start_time": "2024-11-09T18:59:49.323086Z"
    }
   },
   "cell_type": "code",
   "source": "sc = SparkContext(\"local\", \"RDD Examples\")",
   "id": "c5489a83a53cba55",
   "outputs": [],
   "execution_count": 39
  },
  {
   "metadata": {
    "ExecuteTime": {
     "end_time": "2024-11-09T18:59:49.435845Z",
     "start_time": "2024-11-09T18:59:49.428858Z"
    }
   },
   "cell_type": "code",
   "source": [
    "# Create sample RDD (Car brand, Horse power)\n",
    "data = [\n",
    "    (\"Mercedes-Benz\", 503),\n",
    "    (\"BMW\", 480),\n",
    "    (\"Audi\", 450),\n",
    "    (\"Mercedes-Benz\", 503),\n",
    "    (\"Porsche\", 520),\n",
    "    (\"Jaguar\", 510),\n",
    "    (\"Tesla\", 450),\n",
    "    (\"Ferrari\", 710),\n",
    "    (\"Lamborghini\", 730),\n",
    "    (\"Bugatti\", 1500)\n",
    "]\n",
    "\n",
    "rdd = sc.parallelize(data)"
   ],
   "id": "b23bf0a8fefe8669",
   "outputs": [],
   "execution_count": 40
  },
  {
   "metadata": {},
   "cell_type": "markdown",
   "source": "### Transformations",
   "id": "63ec1c33278ef4ad"
  },
  {
   "metadata": {},
   "cell_type": "markdown",
   "source": "#### 1. distinct()",
   "id": "82f02021a7078efa"
  },
  {
   "metadata": {
    "ExecuteTime": {
     "end_time": "2024-11-09T18:59:51.288552Z",
     "start_time": "2024-11-09T18:59:49.449112Z"
    }
   },
   "cell_type": "code",
   "source": [
    "distinct_rdd = rdd.distinct()\n",
    "\n",
    "assert len(distinct_rdd.collect()) == 9, \"Distinct test failed\"\n",
    "\n",
    "print(\"Distinct:\", distinct_rdd.collect())"
   ],
   "id": "7acb4f29e84a00e",
   "outputs": [
    {
     "name": "stdout",
     "output_type": "stream",
     "text": [
      "Distinct: [('Mercedes-Benz', 503), ('BMW', 480), ('Audi', 450), ('Porsche', 520), ('Jaguar', 510), ('Tesla', 450), ('Ferrari', 710), ('Lamborghini', 730), ('Bugatti', 1500)]\n"
     ]
    }
   ],
   "execution_count": 41
  },
  {
   "metadata": {},
   "cell_type": "markdown",
   "source": "#### 2. reduceByKey()",
   "id": "f9cb4ebce7e6ba56"
  },
  {
   "metadata": {
    "ExecuteTime": {
     "end_time": "2024-11-09T18:59:53.035937Z",
     "start_time": "2024-11-09T18:59:51.307249Z"
    }
   },
   "cell_type": "code",
   "source": [
    "reduced_rdd = rdd.reduceByKey(lambda a, b: a + b)\n",
    "\n",
    "assert reduced_rdd.collect()[0][1] == 503 + 503, \"ReduceByKey test failed\"\n",
    "\n",
    "print(\"Reduced by key:\", reduced_rdd.collect())"
   ],
   "id": "9e78e1e9c9365228",
   "outputs": [
    {
     "name": "stdout",
     "output_type": "stream",
     "text": [
      "Reduced by key: [('Mercedes-Benz', 1006), ('BMW', 480), ('Audi', 450), ('Porsche', 520), ('Jaguar', 510), ('Tesla', 450), ('Ferrari', 710), ('Lamborghini', 730), ('Bugatti', 1500)]\n"
     ]
    }
   ],
   "execution_count": 42
  },
  {
   "metadata": {},
   "cell_type": "markdown",
   "source": "#### 3. flatMapValues()",
   "id": "e686a32ed71f5e94"
  },
  {
   "metadata": {
    "ExecuteTime": {
     "end_time": "2024-11-09T18:59:53.725702Z",
     "start_time": "2024-11-09T18:59:53.043714Z"
    }
   },
   "cell_type": "code",
   "source": [
    "flat_map_values_rdd = rdd.flatMapValues(lambda x: range(min(x, 2)))\n",
    "print(\"FlatMapValues:\", flat_map_values_rdd.collect())"
   ],
   "id": "ca706af60c1515c1",
   "outputs": [
    {
     "name": "stdout",
     "output_type": "stream",
     "text": [
      "FlatMapValues: [('Mercedes-Benz', 0), ('Mercedes-Benz', 1), ('BMW', 0), ('BMW', 1), ('Audi', 0), ('Audi', 1), ('Mercedes-Benz', 0), ('Mercedes-Benz', 1), ('Porsche', 0), ('Porsche', 1), ('Jaguar', 0), ('Jaguar', 1), ('Tesla', 0), ('Tesla', 1), ('Ferrari', 0), ('Ferrari', 1), ('Lamborghini', 0), ('Lamborghini', 1), ('Bugatti', 0), ('Bugatti', 1)]\n"
     ]
    }
   ],
   "execution_count": 43
  },
  {
   "metadata": {},
   "cell_type": "markdown",
   "source": "### Actions",
   "id": "e4e592a871eb33aa"
  },
  {
   "metadata": {},
   "cell_type": "markdown",
   "source": "#### 1. count()",
   "id": "62996132a54a9dd3"
  },
  {
   "metadata": {
    "ExecuteTime": {
     "end_time": "2024-11-09T18:59:54.374816Z",
     "start_time": "2024-11-09T18:59:53.737788Z"
    }
   },
   "cell_type": "code",
   "source": [
    "count = rdd.count()\n",
    "print(\"Count:\", count)"
   ],
   "id": "5881f36611941d4e",
   "outputs": [
    {
     "name": "stdout",
     "output_type": "stream",
     "text": [
      "Count: 10\n"
     ]
    }
   ],
   "execution_count": 44
  },
  {
   "metadata": {},
   "cell_type": "markdown",
   "source": "#### 2. take()",
   "id": "7d3db0a02de07105"
  },
  {
   "metadata": {
    "ExecuteTime": {
     "end_time": "2024-11-09T18:59:54.970639Z",
     "start_time": "2024-11-09T18:59:54.394234Z"
    }
   },
   "cell_type": "code",
   "source": [
    "taken = rdd.take(3)\n",
    "assert len(taken) == 3, \"Take test failed\"\n",
    "print(\"Take:\", taken)"
   ],
   "id": "941c22ad2bae8493",
   "outputs": [
    {
     "name": "stdout",
     "output_type": "stream",
     "text": [
      "Take: [('Mercedes-Benz', 503), ('BMW', 480), ('Audi', 450)]\n"
     ]
    }
   ],
   "execution_count": 45
  },
  {
   "metadata": {},
   "cell_type": "markdown",
   "source": "#### 3. top()",
   "id": "621f2391d27e0c98"
  },
  {
   "metadata": {
    "ExecuteTime": {
     "end_time": "2024-11-09T18:59:55.595503Z",
     "start_time": "2024-11-09T18:59:54.976646Z"
    }
   },
   "cell_type": "code",
   "source": [
    "top_elements = rdd.top(3, key=lambda x: x[1]) \n",
    "\n",
    "assert top_elements[0][0] == \"Bugatti\", \"Top test failed\"\n",
    "assert top_elements[1][0] == \"Lamborghini\", \"Top test failed\"\n",
    "\n",
    "print(\"Top 3 elements by value:\", top_elements)"
   ],
   "id": "1668c8e593554d7a",
   "outputs": [
    {
     "name": "stdout",
     "output_type": "stream",
     "text": [
      "Top 3 elements by value: [('Bugatti', 1500), ('Lamborghini', 730), ('Ferrari', 710)]\n"
     ]
    }
   ],
   "execution_count": 46
  },
  {
   "metadata": {
    "ExecuteTime": {
     "end_time": "2024-11-09T18:59:56.577222Z",
     "start_time": "2024-11-09T18:59:55.613509Z"
    }
   },
   "cell_type": "code",
   "source": "sc.stop()",
   "id": "b58e9ff802c8f07e",
   "outputs": [],
   "execution_count": 47
  }
 ],
 "metadata": {
  "kernelspec": {
   "display_name": "Python 3",
   "language": "python",
   "name": "python3"
  },
  "language_info": {
   "codemirror_mode": {
    "name": "ipython",
    "version": 2
   },
   "file_extension": ".py",
   "mimetype": "text/x-python",
   "name": "python",
   "nbconvert_exporter": "python",
   "pygments_lexer": "ipython2",
   "version": "2.7.6"
  }
 },
 "nbformat": 4,
 "nbformat_minor": 5
}
