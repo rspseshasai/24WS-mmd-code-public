{
 "cells": [
  {
   "metadata": {},
   "cell_type": "markdown",
   "source": [
    "# MMD 2024, Collaborative Filtering on Google Colab\n",
    "This notebook sets up the enviroment and runs CF experiments on Google Colab.\n",
    "\n",
    "\n",
    "\n"
   ],
   "id": "fa308cfc4e877d7"
  },
  {
   "metadata": {
    "ExecuteTime": {
     "end_time": "2024-11-04T00:23:49.921953100Z",
     "start_time": "2024-11-04T00:23:49.886467100Z"
    }
   },
   "cell_type": "code",
   "outputs": [],
   "execution_count": 21,
   "source": [
    "# Import the repository code\n",
    "import rec_sys.data_util as cfd\n",
    "\n",
    "# After edits of cf_algorithms_to_complete.py:\n",
    "# 1. Rename the file rec_sys.cf_algorithms_to_complete.py to rec_sys.cf_algorithms.py\n",
    "# 2. Restart the runtime (Runtime -> Restart the session); possibly not needed\n",
    "# 3. Swap the comments in the next two lines, so that cf_algorithms is imported as cfa\n",
    "# import rec_sys.cf_algorithms_to_complete as cfa\n",
    "import rec_sys.cf_algorithms as cfa\n",
    "# 4. Re-run all cells\n",
    "# 5. If your changes are correct, you will see a long\n",
    "#    printout of recommendations for MovieLens dataset (last cell)"
   ],
   "id": "cc23bb7c89f22488"
  },
  {
   "metadata": {
    "ExecuteTime": {
     "end_time": "2024-11-04T00:23:49.934400600Z",
     "start_time": "2024-11-04T00:23:49.896787600Z"
    }
   },
   "cell_type": "code",
   "outputs": [],
   "execution_count": 22,
   "source": [
    "# Load or set the configuration\n",
    "#from rec_sys.cf_config import config\n",
    "\n",
    "import dataclasses\n",
    "@dataclasses.dataclass\n",
    "class config:\n",
    "    max_rows: int = int(1e5)\n",
    "    dowload_url: str = \"https://files.grouplens.org/datasets/movielens/ml-25m.zip\"\n",
    "    download_dir: str = \"/content/\"\n",
    "    unzipped_dir: str = download_dir + \"ml-25m/\"\n",
    "    file_path: str = download_dir + \"ml-25m/ratings.csv\"\n"
   ],
   "id": "3a20780ceb8a3f69"
  },
  {
   "metadata": {
    "ExecuteTime": {
     "end_time": "2024-11-04T00:23:50.510879Z",
     "start_time": "2024-11-04T00:23:49.904627500Z"
    }
   },
   "cell_type": "code",
   "outputs": [
    {
     "name": "stdout",
     "output_type": "stream",
     "text": [
      "Dir '/content/ml-25m/' already exists, skipping download\n",
      "\n",
      "### Start reading data from '/content/ml-25m/ratings.csv'\n",
      "Loaded data from '/content/ml-25m/ratings.csv', df shape: (100000, 3), size in MB: 1.1444091796875 \n",
      "Pivoting the data\n",
      "Utility matrix, df shape: (9786, 757), size in MB: 29.142929077148438 \n",
      "Final utility matrix (numpy array as np.float32), df shape: (9786, 757), size in MB: 28.25928497314453 \n",
      "all_ratings lecture toy dataset: [nan nan  0.  0.  0.  0.]\n",
      "all_ratings_movielens: [ 0. nan  0.  0.  0. nan  0.  0. nan  0. nan  0.  0.  0.  0. nan nan  0.\n",
      "  0. nan nan  0.  0. nan  0.  0. nan nan nan nan  0.  0.  0.  0. nan nan\n",
      "  0.  0. nan  0. nan nan  0. nan  0. nan nan nan nan  0. nan nan nan nan\n",
      " nan  0.  0. nan  0. nan nan  0. nan nan nan nan nan  0.  0.  0. nan  0.\n",
      " nan  0.  0.  0. nan nan  0.  0. nan  0. nan  0.  0.  0. nan nan nan nan\n",
      " nan nan nan  0.  0. nan nan nan  0. nan  0. nan  0.  0. nan  0.  0. nan\n",
      "  0. nan  0.  0.  0.  0. nan nan nan  0. nan  0. nan  0. nan  0.  0.  0.\n",
      "  0. nan nan nan nan  0.  0. nan  0.  0.  0. nan  0. nan nan  0. nan nan\n",
      " nan nan  0.  0. nan nan nan  0. nan nan  0.  0. nan  0. nan  0. nan nan\n",
      " nan nan  0.  0.  0.  0. nan nan  0. nan nan  0.  0. nan nan  0.  0. nan\n",
      "  0. nan nan nan  0.  0.  0. nan nan  0. nan nan nan nan nan  0.  0. nan\n",
      "  0. nan  0.  0. nan  0.  0.  0.  0.  0. nan nan  0. nan nan  0. nan  0.\n",
      "  0. nan nan  0. nan nan nan  0. nan  0.  0.  0.  0.  0.  0.  0.  0. nan\n",
      "  0.  0. nan  0.  0.  0. nan nan  0. nan  0.  0.  0. nan  0.  0. nan nan\n",
      " nan nan  0. nan nan  0.  0. nan nan  0. nan  0.  0. nan  0. nan  0. nan\n",
      " nan  0.  0. nan nan nan nan nan  0.  0.  0. nan nan  0.  0. nan nan nan\n",
      " nan  0. nan nan  0.  0. nan  0. nan nan nan nan  0.  0. nan  0. nan  0.\n",
      " nan nan  0.  0.  0.  0. nan nan  0. nan nan  0.  0.  0.  0. nan  0. nan\n",
      " nan nan nan  0.  0. nan  0. nan nan  0. nan nan  0. nan nan nan nan  0.\n",
      "  0.  0.  0. nan nan nan nan  0. nan  0. nan nan  0.  0.  0.  0. nan nan\n",
      " nan  0.  0.  0. nan  0. nan  0. nan nan  0.  0. nan  0.  0.  0. nan  0.\n",
      "  0. nan nan  0. nan nan nan  0. nan  0. nan  0. nan nan nan nan  0.  0.\n",
      "  0.  0.  0. nan  0. nan nan  0. nan nan nan  0.  0. nan  0. nan  0.  0.\n",
      " nan  0.  0. nan  0.  0. nan nan nan nan nan  0.  0. nan  0.  0.  0. nan\n",
      " nan  0.  0. nan  0.  0.  0.  0. nan nan nan nan nan  0. nan nan nan  0.\n",
      " nan nan  0. nan  0.  0.  0. nan nan  0. nan  0. nan nan nan nan nan  0.\n",
      "  0. nan nan  0. nan  0. nan nan nan nan nan nan  0.  0. nan nan nan nan\n",
      " nan  0.  0.  0.  0. nan nan  0. nan nan  0. nan nan nan nan nan nan nan\n",
      " nan nan nan nan nan nan  0.  0. nan  0. nan nan nan  0.  0. nan  0. nan\n",
      "  0. nan nan  0. nan  0.  0.  0. nan  0. nan nan nan  0.  0.  0.  0.  0.\n",
      "  0. nan  0.  0.  0.  0.  0.  0. nan nan  0.  0.  0. nan  0. nan  0. nan\n",
      " nan  0.  0. nan nan nan nan  0.  0.  0. nan  0.  0.  0. nan nan nan  0.\n",
      " nan  0. nan nan  0. nan  0. nan nan nan  0.  0. nan nan nan nan nan  0.\n",
      " nan nan  0. nan nan  0. nan  0. nan  0. nan nan  0.  0.  0.  0.  0.  0.\n",
      "  0. nan nan nan nan nan  0.  0. nan  0. nan  0.  0. nan nan nan nan  0.\n",
      " nan nan nan nan nan  0. nan  0. nan nan  0.  0. nan nan nan  0.  0.  0.\n",
      "  0. nan nan  0. nan  0.  0. nan  0. nan nan nan  0. nan  0.  0. nan  0.\n",
      " nan nan  0. nan  0.  0.  0. nan  0. nan  0. nan  0. nan nan nan nan nan\n",
      " nan nan nan  0.  0. nan  0. nan  0. nan  0.  0.  0. nan nan  0. nan  0.\n",
      "  0. nan  0. nan  0. nan nan  0. nan nan  0.  0.  0. nan nan nan  0. nan\n",
      " nan nan  0.  0.  0. nan  0. nan nan nan  0.  0. nan  0.  0.  0.  0.  0.\n",
      " nan  0.  0. nan nan  0. nan  0.  0.  0.  0. nan nan  0.  0.  0.  0.  0.\n",
      "  0.]\n"
     ]
    }
   ],
   "execution_count": 23,
   "source": [
    "# Load the MovieLens and Lecture datasets\n",
    "um_movielens = cfd.get_um_by_name(config, \"movielens\")\n",
    "um_lecture = cfd.get_um_by_name(config, \"lecture_1\")\n",
    "\n",
    "# Rate all items for the lecture toy dataset\n",
    "all_ratings = cfa.rate_all_items(um_lecture, 4, 2)\n",
    "print (\"all_ratings lecture toy dataset:\", all_ratings)\n",
    "\n",
    "# Rate all items the MovieLens data\n",
    "all_ratings_movielens = cfa.rate_all_items(um_movielens, 0, 2)\n",
    "print(\"all_ratings_movielens:\", all_ratings_movielens)"
   ],
   "id": "de5038d900469236"
  },
  {
   "metadata": {},
   "cell_type": "markdown",
   "source": "",
   "id": "1e53c31c16dcef07"
  }
 ],
 "metadata": {
  "kernelspec": {
   "display_name": "Python 3",
   "language": "python",
   "name": "python3"
  },
  "language_info": {
   "codemirror_mode": {
    "name": "ipython",
    "version": 2
   },
   "file_extension": ".py",
   "mimetype": "text/x-python",
   "name": "python",
   "nbconvert_exporter": "python",
   "pygments_lexer": "ipython2",
   "version": "2.7.6"
  }
 },
 "nbformat": 4,
 "nbformat_minor": 5
}
